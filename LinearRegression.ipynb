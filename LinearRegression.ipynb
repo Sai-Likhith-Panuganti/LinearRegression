{
  "nbformat": 4,
  "nbformat_minor": 0,
  "metadata": {
    "colab": {
      "provenance": []
    },
    "kernelspec": {
      "name": "python3",
      "display_name": "Python 3"
    },
    "language_info": {
      "name": "python"
    }
  },
  "cells": [
    {
      "cell_type": "markdown",
      "source": [
        "#Importing Required Libraries"
      ],
      "metadata": {
        "id": "1t10PRtr1vS7"
      }
    },
    {
      "cell_type": "code",
      "source": [
        "import pandas as pd\n",
        "from sklearn.model_selection import train_test_split\n",
        "from sklearn.linear_model import LinearRegression\n",
        "import matplotlib.pyplot as plt"
      ],
      "metadata": {
        "id": "ZbqFm9-PrCSU"
      },
      "execution_count": 1,
      "outputs": []
    },
    {
      "cell_type": "markdown",
      "source": [
        "#Importing (Reading) Datasets"
      ],
      "metadata": {
        "id": "gOperY__1yt_"
      }
    },
    {
      "cell_type": "code",
      "execution_count": 2,
      "metadata": {
        "id": "C7Jis6d_p5y4"
      },
      "outputs": [],
      "source": [
        "data=pd.read_csv('/content/Salary_Data.csv')"
      ]
    },
    {
      "cell_type": "code",
      "source": [
        "data.head()"
      ],
      "metadata": {
        "colab": {
          "base_uri": "https://localhost:8080/",
          "height": 206
        },
        "id": "DdWBkxlmxVrz",
        "outputId": "cf155f7d-77f9-4a06-923c-132285c04cd3"
      },
      "execution_count": 3,
      "outputs": [
        {
          "output_type": "execute_result",
          "data": {
            "text/plain": [
              "   YearsExperience   Salary\n",
              "0              1.1  39343.0\n",
              "1              1.3  46205.0\n",
              "2              1.5  37731.0\n",
              "3              2.0  43525.0\n",
              "4              2.2  39891.0"
            ],
            "text/html": [
              "\n",
              "  <div id=\"df-82691abb-de5e-41b7-ba83-b110030a63b4\">\n",
              "    <div class=\"colab-df-container\">\n",
              "      <div>\n",
              "<style scoped>\n",
              "    .dataframe tbody tr th:only-of-type {\n",
              "        vertical-align: middle;\n",
              "    }\n",
              "\n",
              "    .dataframe tbody tr th {\n",
              "        vertical-align: top;\n",
              "    }\n",
              "\n",
              "    .dataframe thead th {\n",
              "        text-align: right;\n",
              "    }\n",
              "</style>\n",
              "<table border=\"1\" class=\"dataframe\">\n",
              "  <thead>\n",
              "    <tr style=\"text-align: right;\">\n",
              "      <th></th>\n",
              "      <th>YearsExperience</th>\n",
              "      <th>Salary</th>\n",
              "    </tr>\n",
              "  </thead>\n",
              "  <tbody>\n",
              "    <tr>\n",
              "      <th>0</th>\n",
              "      <td>1.1</td>\n",
              "      <td>39343.0</td>\n",
              "    </tr>\n",
              "    <tr>\n",
              "      <th>1</th>\n",
              "      <td>1.3</td>\n",
              "      <td>46205.0</td>\n",
              "    </tr>\n",
              "    <tr>\n",
              "      <th>2</th>\n",
              "      <td>1.5</td>\n",
              "      <td>37731.0</td>\n",
              "    </tr>\n",
              "    <tr>\n",
              "      <th>3</th>\n",
              "      <td>2.0</td>\n",
              "      <td>43525.0</td>\n",
              "    </tr>\n",
              "    <tr>\n",
              "      <th>4</th>\n",
              "      <td>2.2</td>\n",
              "      <td>39891.0</td>\n",
              "    </tr>\n",
              "  </tbody>\n",
              "</table>\n",
              "</div>\n",
              "      <button class=\"colab-df-convert\" onclick=\"convertToInteractive('df-82691abb-de5e-41b7-ba83-b110030a63b4')\"\n",
              "              title=\"Convert this dataframe to an interactive table.\"\n",
              "              style=\"display:none;\">\n",
              "        \n",
              "  <svg xmlns=\"http://www.w3.org/2000/svg\" height=\"24px\"viewBox=\"0 0 24 24\"\n",
              "       width=\"24px\">\n",
              "    <path d=\"M0 0h24v24H0V0z\" fill=\"none\"/>\n",
              "    <path d=\"M18.56 5.44l.94 2.06.94-2.06 2.06-.94-2.06-.94-.94-2.06-.94 2.06-2.06.94zm-11 1L8.5 8.5l.94-2.06 2.06-.94-2.06-.94L8.5 2.5l-.94 2.06-2.06.94zm10 10l.94 2.06.94-2.06 2.06-.94-2.06-.94-.94-2.06-.94 2.06-2.06.94z\"/><path d=\"M17.41 7.96l-1.37-1.37c-.4-.4-.92-.59-1.43-.59-.52 0-1.04.2-1.43.59L10.3 9.45l-7.72 7.72c-.78.78-.78 2.05 0 2.83L4 21.41c.39.39.9.59 1.41.59.51 0 1.02-.2 1.41-.59l7.78-7.78 2.81-2.81c.8-.78.8-2.07 0-2.86zM5.41 20L4 18.59l7.72-7.72 1.47 1.35L5.41 20z\"/>\n",
              "  </svg>\n",
              "      </button>\n",
              "      \n",
              "  <style>\n",
              "    .colab-df-container {\n",
              "      display:flex;\n",
              "      flex-wrap:wrap;\n",
              "      gap: 12px;\n",
              "    }\n",
              "\n",
              "    .colab-df-convert {\n",
              "      background-color: #E8F0FE;\n",
              "      border: none;\n",
              "      border-radius: 50%;\n",
              "      cursor: pointer;\n",
              "      display: none;\n",
              "      fill: #1967D2;\n",
              "      height: 32px;\n",
              "      padding: 0 0 0 0;\n",
              "      width: 32px;\n",
              "    }\n",
              "\n",
              "    .colab-df-convert:hover {\n",
              "      background-color: #E2EBFA;\n",
              "      box-shadow: 0px 1px 2px rgba(60, 64, 67, 0.3), 0px 1px 3px 1px rgba(60, 64, 67, 0.15);\n",
              "      fill: #174EA6;\n",
              "    }\n",
              "\n",
              "    [theme=dark] .colab-df-convert {\n",
              "      background-color: #3B4455;\n",
              "      fill: #D2E3FC;\n",
              "    }\n",
              "\n",
              "    [theme=dark] .colab-df-convert:hover {\n",
              "      background-color: #434B5C;\n",
              "      box-shadow: 0px 1px 3px 1px rgba(0, 0, 0, 0.15);\n",
              "      filter: drop-shadow(0px 1px 2px rgba(0, 0, 0, 0.3));\n",
              "      fill: #FFFFFF;\n",
              "    }\n",
              "  </style>\n",
              "\n",
              "      <script>\n",
              "        const buttonEl =\n",
              "          document.querySelector('#df-82691abb-de5e-41b7-ba83-b110030a63b4 button.colab-df-convert');\n",
              "        buttonEl.style.display =\n",
              "          google.colab.kernel.accessAllowed ? 'block' : 'none';\n",
              "\n",
              "        async function convertToInteractive(key) {\n",
              "          const element = document.querySelector('#df-82691abb-de5e-41b7-ba83-b110030a63b4');\n",
              "          const dataTable =\n",
              "            await google.colab.kernel.invokeFunction('convertToInteractive',\n",
              "                                                     [key], {});\n",
              "          if (!dataTable) return;\n",
              "\n",
              "          const docLinkHtml = 'Like what you see? Visit the ' +\n",
              "            '<a target=\"_blank\" href=https://colab.research.google.com/notebooks/data_table.ipynb>data table notebook</a>'\n",
              "            + ' to learn more about interactive tables.';\n",
              "          element.innerHTML = '';\n",
              "          dataTable['output_type'] = 'display_data';\n",
              "          await google.colab.output.renderOutput(dataTable, element);\n",
              "          const docLink = document.createElement('div');\n",
              "          docLink.innerHTML = docLinkHtml;\n",
              "          element.appendChild(docLink);\n",
              "        }\n",
              "      </script>\n",
              "    </div>\n",
              "  </div>\n",
              "  "
            ]
          },
          "metadata": {},
          "execution_count": 3
        }
      ]
    },
    {
      "cell_type": "code",
      "source": [
        "data.shape"
      ],
      "metadata": {
        "colab": {
          "base_uri": "https://localhost:8080/"
        },
        "id": "YpryzQS1vfUE",
        "outputId": "b9413fc5-fa0e-437d-fbed-d5fc1b5e3202"
      },
      "execution_count": 4,
      "outputs": [
        {
          "output_type": "execute_result",
          "data": {
            "text/plain": [
              "(30, 2)"
            ]
          },
          "metadata": {},
          "execution_count": 4
        }
      ]
    },
    {
      "cell_type": "markdown",
      "source": [
        "# Checking for any null values in dataset"
      ],
      "metadata": {
        "id": "dcBrymoeYqZU"
      }
    },
    {
      "cell_type": "code",
      "source": [
        "data.isnull().sum() #Checking for any Null values in the imported Datasets"
      ],
      "metadata": {
        "colab": {
          "base_uri": "https://localhost:8080/"
        },
        "id": "qjYSn1S7vrZh",
        "outputId": "a139cd2e-24fc-470e-846f-7ba02a806b2f"
      },
      "execution_count": 5,
      "outputs": [
        {
          "output_type": "execute_result",
          "data": {
            "text/plain": [
              "YearsExperience    0\n",
              "Salary             0\n",
              "dtype: int64"
            ]
          },
          "metadata": {},
          "execution_count": 5
        }
      ]
    },
    {
      "cell_type": "markdown",
      "source": [
        "# Checking for any null values in dataset"
      ],
      "metadata": {
        "id": "inbNJsNOa443"
      }
    },
    {
      "cell_type": "code",
      "source": [
        "x=data.iloc[:,:1].values\n",
        "y=data.iloc[:, 1:2].values\n",
        "print(x)\n",
        "print(y)"
      ],
      "metadata": {
        "colab": {
          "base_uri": "https://localhost:8080/"
        },
        "id": "kBiswH_VzYYg",
        "outputId": "986d51a1-34c7-48c1-f2c0-19d4a5898c4a"
      },
      "execution_count": 6,
      "outputs": [
        {
          "output_type": "stream",
          "name": "stdout",
          "text": [
            "[[ 1.1]\n",
            " [ 1.3]\n",
            " [ 1.5]\n",
            " [ 2. ]\n",
            " [ 2.2]\n",
            " [ 2.9]\n",
            " [ 3. ]\n",
            " [ 3.2]\n",
            " [ 3.2]\n",
            " [ 3.7]\n",
            " [ 3.9]\n",
            " [ 4. ]\n",
            " [ 4. ]\n",
            " [ 4.1]\n",
            " [ 4.5]\n",
            " [ 4.9]\n",
            " [ 5.1]\n",
            " [ 5.3]\n",
            " [ 5.9]\n",
            " [ 6. ]\n",
            " [ 6.8]\n",
            " [ 7.1]\n",
            " [ 7.9]\n",
            " [ 8.2]\n",
            " [ 8.7]\n",
            " [ 9. ]\n",
            " [ 9.5]\n",
            " [ 9.6]\n",
            " [10.3]\n",
            " [10.5]]\n",
            "[[ 39343.]\n",
            " [ 46205.]\n",
            " [ 37731.]\n",
            " [ 43525.]\n",
            " [ 39891.]\n",
            " [ 56642.]\n",
            " [ 60150.]\n",
            " [ 54445.]\n",
            " [ 64445.]\n",
            " [ 57189.]\n",
            " [ 63218.]\n",
            " [ 55794.]\n",
            " [ 56957.]\n",
            " [ 57081.]\n",
            " [ 61111.]\n",
            " [ 67938.]\n",
            " [ 66029.]\n",
            " [ 83088.]\n",
            " [ 81363.]\n",
            " [ 93940.]\n",
            " [ 91738.]\n",
            " [ 98273.]\n",
            " [101302.]\n",
            " [113812.]\n",
            " [109431.]\n",
            " [105582.]\n",
            " [116969.]\n",
            " [112635.]\n",
            " [122391.]\n",
            " [121872.]]\n"
          ]
        }
      ]
    },
    {
      "cell_type": "markdown",
      "source": [
        "# Splitting the dataset into Training and Testing Dataset"
      ],
      "metadata": {
        "id": "LVuSeU2I4K4V"
      }
    },
    {
      "cell_type": "code",
      "source": [
        "x_train, x_test, y_train, y_test = train_test_split(x,y, test_size=0.2, random_state=42)"
      ],
      "metadata": {
        "id": "CSHLqj3qyHu7"
      },
      "execution_count": 7,
      "outputs": []
    },
    {
      "cell_type": "markdown",
      "source": [
        "#Fitting the Model (Linear Regression)"
      ],
      "metadata": {
        "id": "Mc34BxMDZc4K"
      }
    },
    {
      "cell_type": "code",
      "source": [
        "model=LinearRegression()\n",
        "model.fit(x_train, y_train)\n",
        "y_pred=model.predict(x_test)"
      ],
      "metadata": {
        "id": "izbISn4wvyDe"
      },
      "execution_count": 8,
      "outputs": []
    },
    {
      "cell_type": "code",
      "source": [
        "print(y_pred)\n",
        "print(y_test)"
      ],
      "metadata": {
        "colab": {
          "base_uri": "https://localhost:8080/"
        },
        "id": "Pk08zjrSxgXY",
        "outputId": "1a38dfc4-9b78-4d59-82c7-d9db9e24bb11"
      },
      "execution_count": 9,
      "outputs": [
        {
          "output_type": "stream",
          "name": "stdout",
          "text": [
            "[[115790.21011287]\n",
            " [ 71498.27809463]\n",
            " [102596.86866063]\n",
            " [ 75267.80422384]\n",
            " [ 55477.79204548]\n",
            " [ 60189.69970699]]\n",
            "[[112635.]\n",
            " [ 67938.]\n",
            " [113812.]\n",
            " [ 83088.]\n",
            " [ 64445.]\n",
            " [ 57189.]]\n"
          ]
        }
      ]
    },
    {
      "cell_type": "markdown",
      "source": [
        "#Plot for Training dataset"
      ],
      "metadata": {
        "id": "C-3xEyVAbIYZ"
      }
    },
    {
      "cell_type": "code",
      "source": [
        "plt.scatter(x_train, y_train, color='blue')\n",
        "plt.plot(x_train, model.predict(x_train), color='red')\n",
        "plt.title('SALARY VS EXPERIENCE (training set)')\n",
        "plt.xlabel('Experience in Years')\n",
        "plt.ylabel('Salary in Rupees')\n",
        "plt.show()"
      ],
      "metadata": {
        "colab": {
          "base_uri": "https://localhost:8080/",
          "height": 472
        },
        "id": "TBV8x_6W0RKV",
        "outputId": "0be1f2a3-6647-4479-9adc-2591abdaa409"
      },
      "execution_count": 10,
      "outputs": [
        {
          "output_type": "display_data",
          "data": {
            "text/plain": [
              "<Figure size 640x480 with 1 Axes>"
            ],
            "image/png": "[encoded data removed]"
          },
          "metadata": {}
        }
      ]
    },
    {
      "cell_type": "markdown",
      "source": [
        "#Plot for Testing dataset"
      ],
      "metadata": {
        "id": "kUKnXy2pbVHU"
      }
    },
    {
      "cell_type": "code",
      "source": [
        "plt.scatter(x_test, y_test, color='blue')\n",
        "plt.plot(x_train, model.predict(x_train), color='red')\n",
        "plt.title('SALARY VS EXPERIENCE (testing set)')\n",
        "plt.xlabel('Experience in Years')\n",
        "plt.ylabel('Salary in Rupees')\n",
        "plt.show()"
      ],
      "metadata": {
        "colab": {
          "base_uri": "https://localhost:8080/",
          "height": 472
        },
        "id": "UO4w6Y9A1Jik",
        "outputId": "58726b69-262f-4b3e-e419-93bd0d58a415"
      },
      "execution_count": 11,
      "outputs": [
        {
          "output_type": "display_data",
          "data": {
            "text/plain": [
              "<Figure size 640x480 with 1 Axes>"
            ],
            "image/png": "[encoded data removed]"
          },
          "metadata": {}
        }
      ]
    }
  ]
}